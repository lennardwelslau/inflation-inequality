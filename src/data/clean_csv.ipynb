{
 "cells": [
  {
   "cell_type": "code",
   "execution_count": 27,
   "metadata": {},
   "outputs": [],
   "source": [
    "import pandas as pd"
   ]
  },
  {
   "cell_type": "code",
   "execution_count": 28,
   "metadata": {},
   "outputs": [],
   "source": [
    "fig1 = pd.read_csv('fig1.csv')\n",
    "col_order  = ['Country', 'date', 'Bottom quintile', 'Top quintile', 'Bottom quartile', 'Top quartile', 'Total', 'HICP']\n",
    "fig1 = fig1[col_order]\n",
    "fig1.to_csv('fig1.csv', index=False)"
   ]
  },
  {
   "cell_type": "code",
   "execution_count": 29,
   "metadata": {},
   "outputs": [],
   "source": [
    "fig2 = pd.read_csv('fig2.csv')\n",
    "col_order  = ['Country', 'date', 'coicop', 'value', 'diff']\n",
    "fig2 = fig2[col_order]\n",
    "fig2.to_csv('fig2.csv', index=False)"
   ]
  },
  {
   "cell_type": "code",
   "execution_count": 30,
   "metadata": {},
   "outputs": [],
   "source": [
    "fig3 = pd.read_csv('fig3.csv')\n",
    "col_order  = ['Country', 'coicop', 'Main category', 'Consumption category',\n",
    "       'Difference in share of total expenditure',\n",
    "       'Average inflation in 2019', 'Average inflation in 2020', 'Average inflation in 2021',\n",
    "       'Average inflation in 2022', 'Average inflation in 2023', 'Average inflation in 2024']\n",
    "fig3 = fig3[col_order]\n",
    "fig3.to_csv('fig3.csv', index=False)"
   ]
  },
  {
   "cell_type": "code",
   "execution_count": null,
   "metadata": {},
   "outputs": [],
   "source": []
  }
 ],
 "metadata": {
  "kernelspec": {
   "display_name": "base",
   "language": "python",
   "name": "python3"
  },
  "language_info": {
   "codemirror_mode": {
    "name": "ipython",
    "version": 3
   },
   "file_extension": ".py",
   "mimetype": "text/x-python",
   "name": "python",
   "nbconvert_exporter": "python",
   "pygments_lexer": "ipython3",
   "version": "3.9.16"
  }
 },
 "nbformat": 4,
 "nbformat_minor": 2
}
