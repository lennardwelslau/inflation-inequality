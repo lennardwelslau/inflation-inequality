{
 "cells": [
  {
   "cell_type": "code",
   "execution_count": 2,
   "metadata": {},
   "outputs": [],
   "source": [
    "import pandas as pd"
   ]
  },
  {
   "cell_type": "code",
   "execution_count": 3,
   "metadata": {},
   "outputs": [],
   "source": [
    "# with excel writer read sheets fig1 and fig2 from inflation_inequality.xlsxx, convert Date columns to datetime format from Jan-19 to 2019-01-01, save to same\n",
    "df1 = pd.read_excel('inflation_inequality.xlsx', sheet_name='fig1')\n",
    "df2 = pd.read_excel('inflation_inequality.xlsx', sheet_name='fig2')\n",
    "df3 = pd.read_excel('inflation_inequality.xlsx', sheet_name='fig3')\n",
    "df1['Date'] = pd.to_datetime(df1['Date'], format='%Y-%m-%d')\n",
    "df2['Date'] = pd.to_datetime(df2['Date'], format='%Y-%m-%d')\n",
    "df1['Date'] = df1['Date'].dt.strftime('%Y-%m')\n",
    "df2['Date'] = df2['Date'].dt.strftime('%Y-%m')\n",
    "\n",
    "# save back to same sheets with excel writer\n",
    "with pd.ExcelWriter('inflation_inequality.xlsx') as writer:\n",
    "    df1.to_excel(writer, sheet_name='fig1', index=False)\n",
    "    df2.to_excel(writer, sheet_name='fig2', index=False)\n",
    "    df3.to_excel(writer, sheet_name='fig3', index=False)\n"
   ]
  }
 ],
 "metadata": {
  "kernelspec": {
   "display_name": "base",
   "language": "python",
   "name": "python3"
  },
  "language_info": {
   "codemirror_mode": {
    "name": "ipython",
    "version": 3
   },
   "file_extension": ".py",
   "mimetype": "text/x-python",
   "name": "python",
   "nbconvert_exporter": "python",
   "pygments_lexer": "ipython3",
   "version": "3.9.16"
  }
 },
 "nbformat": 4,
 "nbformat_minor": 2
}
